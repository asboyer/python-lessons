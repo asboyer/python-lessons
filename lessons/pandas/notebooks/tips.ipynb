{
 "cells": [
  {
   "cell_type": "code",
   "execution_count": 2,
   "metadata": {},
   "outputs": [],
   "source": [
    "# tips\n",
    "import pandas as pd"
   ]
  },
  {
   "cell_type": "code",
   "execution_count": null,
   "metadata": {},
   "outputs": [],
   "source": [
    "# 1d arrays:\n",
    "arr = [0, 1, 2]\n",
    "arr[0]"
   ]
  },
  {
   "cell_type": "code",
   "execution_count": 3,
   "metadata": {},
   "outputs": [
    {
     "data": {
      "text/plain": [
       "0"
      ]
     },
     "execution_count": 3,
     "metadata": {},
     "output_type": "execute_result"
    }
   ],
   "source": [
    "# 2d arrays:\n",
    "arr2 = [[0, 1, 3], [1, 2, 0]]\n",
    "arr2 = [\n",
    "    [0, 1, 3],\n",
    "    [1, 2, 0]\n",
    "]\n",
    "arr2[0][0]"
   ]
  },
  {
   "cell_type": "code",
   "execution_count": 4,
   "metadata": {},
   "outputs": [
    {
     "data": {
      "text/plain": [
       "[[0, 0, 0], [0, 0, 0], [0, 0, 0]]"
      ]
     },
     "execution_count": 4,
     "metadata": {},
     "output_type": "execute_result"
    }
   ],
   "source": [
    "# 3d arrays:\n",
    "arr3 = [[[0, 0, 0], [0, 0, 0], [0, 0, 0]], [[0, 0, 0], [0, 0, 0], [0, 0, 0]]]\n",
    "arr3[0]"
   ]
  },
  {
   "cell_type": "code",
   "execution_count": 6,
   "metadata": {},
   "outputs": [
    {
     "data": {
      "text/plain": [
       "0"
      ]
     },
     "execution_count": 6,
     "metadata": {},
     "output_type": "execute_result"
    }
   ],
   "source": [
    "arr3[0][0][0]"
   ]
  },
  {
   "cell_type": "code",
   "execution_count": 18,
   "metadata": {},
   "outputs": [],
   "source": [
    "# dictionary of data\n",
    "data = {\n",
    "    'calories': [420, 380, 390],\n",
    "    'duration': [50, 40, 45],\n",
    "    'where': ['Home', 'Wendy\\'s', 'Chipoltle'],\n",
    "    'drink': ['Water', 'Frosty', 'Coke']\n",
    "}\n",
    "df = pd.DataFrame(data, index = ['meal1', 'meal2', 'meal3'])\n",
    "# default indexes are 0, 1, 2"
   ]
  },
  {
   "cell_type": "code",
   "execution_count": 25,
   "metadata": {},
   "outputs": [
    {
     "data": {
      "text/plain": [
       "\"       calories  duration      where   drink\\nmeal1       420        50       Home   Water\\nmeal2       380        40    Wendy's  Frosty\\nmeal3       390        45  Chipoltle    Coke\""
      ]
     },
     "execution_count": 25,
     "metadata": {},
     "output_type": "execute_result"
    }
   ],
   "source": [
    "df.to_string()"
   ]
  },
  {
   "cell_type": "code",
   "execution_count": 19,
   "metadata": {},
   "outputs": [
    {
     "name": "stdout",
     "output_type": "stream",
     "text": [
      "       calories  duration      where   drink\n",
      "meal1       420        50       Home   Water\n",
      "meal2       380        40    Wendy's  Frosty\n",
      "meal3       390        45  Chipoltle    Coke\n"
     ]
    }
   ],
   "source": [
    "print(df)"
   ]
  },
  {
   "cell_type": "code",
   "execution_count": 21,
   "metadata": {},
   "outputs": [
    {
     "data": {
      "text/plain": [
       "calories      420\n",
       "duration       50\n",
       "where        Home\n",
       "drink       Water\n",
       "Name: meal1, dtype: object"
      ]
     },
     "execution_count": 21,
     "metadata": {},
     "output_type": "execute_result"
    }
   ],
   "source": [
    "df.loc['meal1']\n",
    "# returns a pandas series"
   ]
  },
  {
   "cell_type": "code",
   "execution_count": 22,
   "metadata": {},
   "outputs": [
    {
     "data": {
      "text/plain": [
       "\"\\nread_csv loads the file into a 'dataframe'\\nwhat is a dataframe? \\na pandas dataframe is a 2 dimensional data structure\\nlike a 2 dimensional array \\n[0, 0, 0] <- one dimensional array\\narr = [\\n[0, 0, 0], \\n[0, 0, 0],  <- two dimensional array\\n[0, 0,0]\\n]\\na df is a pandas version of a 2d array\\na table with rows and columns\\ndf stands for dataframe\\n\""
      ]
     },
     "execution_count": 22,
     "metadata": {},
     "output_type": "execute_result"
    }
   ],
   "source": [
    "# df notes:\n",
    "\"\"\"\n",
    "read_csv loads the file into a 'dataframe'\n",
    "what is a dataframe? \n",
    "a pandas dataframe is a 2 dimensional data structure\n",
    "like a 2 dimensional array \n",
    "[0, 0, 0] <- one dimensional array\n",
    "arr = [\n",
    "[0, 0, 0], \n",
    "[0, 0, 0],  <- two dimensional array\n",
    "[0, 0,0]\n",
    "]\n",
    "a df is a pandas version of a 2d array\n",
    "a table with rows and columns\n",
    "df stands for dataframe\n",
    "\"\"\""
   ]
  },
  {
   "cell_type": "code",
   "execution_count": null,
   "metadata": {},
   "outputs": [],
   "source": [
    "with pd.option_context('display.max_rows', None, 'display.max_columns', None):  # more options can be specified also\n",
    "    print(df.loc[0])"
   ]
  },
  {
   "cell_type": "code",
   "execution_count": 27,
   "metadata": {},
   "outputs": [],
   "source": [
    "data = {\n",
    "   'game': ['Subnautica','Jurassic World Evolution','Titanfall 2'],\n",
    "   'genre': ['Survival','Simulation','FPS'],\n",
    "   'rating': ['E10+','T','M'],\n",
    "   'rating_description': [\n",
    "       'fantasy violence, mild language',\n",
    "       'mild blood, violence',\n",
    "       'blood and gore, language, violence'\n",
    "   ]\n",
    "}\n",
    "df = pd.DataFrame(data)"
   ]
  },
  {
   "cell_type": "code",
   "execution_count": 28,
   "metadata": {},
   "outputs": [
    {
     "data": {
      "text/html": [
       "<div>\n",
       "<style scoped>\n",
       "    .dataframe tbody tr th:only-of-type {\n",
       "        vertical-align: middle;\n",
       "    }\n",
       "\n",
       "    .dataframe tbody tr th {\n",
       "        vertical-align: top;\n",
       "    }\n",
       "\n",
       "    .dataframe thead th {\n",
       "        text-align: right;\n",
       "    }\n",
       "</style>\n",
       "<table border=\"1\" class=\"dataframe\">\n",
       "  <thead>\n",
       "    <tr style=\"text-align: right;\">\n",
       "      <th></th>\n",
       "      <th>game</th>\n",
       "      <th>genre</th>\n",
       "      <th>rating</th>\n",
       "      <th>rating_description</th>\n",
       "    </tr>\n",
       "  </thead>\n",
       "  <tbody>\n",
       "    <tr>\n",
       "      <th>0</th>\n",
       "      <td>Subnautica</td>\n",
       "      <td>Survival</td>\n",
       "      <td>E10+</td>\n",
       "      <td>fantasy violence, mild language</td>\n",
       "    </tr>\n",
       "    <tr>\n",
       "      <th>1</th>\n",
       "      <td>Jurassic World Evolution</td>\n",
       "      <td>Simulation</td>\n",
       "      <td>T</td>\n",
       "      <td>mild blood, violence</td>\n",
       "    </tr>\n",
       "    <tr>\n",
       "      <th>2</th>\n",
       "      <td>Titanfall 2</td>\n",
       "      <td>FPS</td>\n",
       "      <td>M</td>\n",
       "      <td>blood and gore, language, violence</td>\n",
       "    </tr>\n",
       "  </tbody>\n",
       "</table>\n",
       "</div>"
      ],
      "text/plain": [
       "                       game       genre rating  \\\n",
       "0                Subnautica    Survival   E10+   \n",
       "1  Jurassic World Evolution  Simulation      T   \n",
       "2               Titanfall 2         FPS      M   \n",
       "\n",
       "                   rating_description  \n",
       "0     fantasy violence, mild language  \n",
       "1                mild blood, violence  \n",
       "2  blood and gore, language, violence  "
      ]
     },
     "execution_count": 28,
     "metadata": {},
     "output_type": "execute_result"
    }
   ],
   "source": [
    "df"
   ]
  },
  {
   "cell_type": "code",
   "execution_count": 2,
   "metadata": {},
   "outputs": [],
   "source": [
    "# cleaning data\n",
    "# data cleaning means fixing bad data in your data set\n",
    "# bad data could be:\n",
    "# - empty cell\n",
    "# - data in wrong format\n",
    "# - wrong data\n",
    "# - duplicates\n",
    "\n",
    "# cleaing an empty cell\n",
    "# empty cells can potentially give you a wrong result when you analyze data\n",
    "\n",
    "# remove rows with empty cells"
   ]
  },
  {
   "cell_type": "code",
   "execution_count": null,
   "metadata": {},
   "outputs": [],
   "source": []
  }
 ],
 "metadata": {
  "kernelspec": {
   "display_name": "Python 3",
   "language": "python",
   "name": "python3"
  },
  "language_info": {
   "codemirror_mode": {
    "name": "ipython",
    "version": 3
   },
   "file_extension": ".py",
   "mimetype": "text/x-python",
   "name": "python",
   "nbconvert_exporter": "python",
   "pygments_lexer": "ipython3",
   "version": "3.8.5"
  }
 },
 "nbformat": 4,
 "nbformat_minor": 5
}
